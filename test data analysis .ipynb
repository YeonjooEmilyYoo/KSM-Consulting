{
 "cells": [
  {
   "cell_type": "code",
   "execution_count": 10,
   "metadata": {
    "collapsed": true
   },
   "outputs": [],
   "source": [
    "# import Data \"test.csv\" "
   ]
  },
  {
   "cell_type": "code",
   "execution_count": 143,
   "metadata": {
    "collapsed": false
   },
   "outputs": [],
   "source": [
    "import numpy as np\n",
    "import pandas as pd\n",
    "from pandas import DataFrame\n",
    "from pandas import Series"
   ]
  },
  {
   "cell_type": "code",
   "execution_count": 145,
   "metadata": {
    "collapsed": true
   },
   "outputs": [],
   "source": [
    "import matplotlib.pyplot as plt #for graphying"
   ]
  },
  {
   "cell_type": "code",
   "execution_count": 146,
   "metadata": {
    "collapsed": true
   },
   "outputs": [],
   "source": [
    "from pylab import*"
   ]
  },
  {
   "cell_type": "code",
   "execution_count": 147,
   "metadata": {
    "collapsed": true
   },
   "outputs": [],
   "source": [
    "%matplotlib inline"
   ]
  },
  {
   "cell_type": "code",
   "execution_count": 148,
   "metadata": {
    "collapsed": true
   },
   "outputs": [],
   "source": [
    "import seaborn as sns #to make matplotlib graphics looking better"
   ]
  },
  {
   "cell_type": "code",
   "execution_count": 183,
   "metadata": {
    "collapsed": true
   },
   "outputs": [],
   "source": [
    "#test = pd.read_csv('test.csv', index_col=['ID'])\n",
    "test = pd.read_csv('test.csv')\n",
    "#print(test)"
   ]
  },
  {
   "cell_type": "code",
   "execution_count": 184,
   "metadata": {
    "collapsed": false
   },
   "outputs": [
    {
     "data": {
      "text/plain": [
       "132"
      ]
     },
     "execution_count": 184,
     "metadata": {},
     "output_type": "execute_result"
    }
   ],
   "source": [
    "len(test.columns)"
   ]
  },
  {
   "cell_type": "code",
   "execution_count": 137,
   "metadata": {
    "collapsed": false
   },
   "outputs": [
    {
     "data": {
      "text/plain": [
       "v1      float64\n",
       "v2      float64\n",
       "v3       object\n",
       "v4      float64\n",
       "v5      float64\n",
       "v6      float64\n",
       "v7      float64\n",
       "v8      float64\n",
       "v9      float64\n",
       "v10     float64\n",
       "v11     float64\n",
       "v12     float64\n",
       "v13     float64\n",
       "v14     float64\n",
       "v15     float64\n",
       "v16     float64\n",
       "v17     float64\n",
       "v18     float64\n",
       "v19     float64\n",
       "v20     float64\n",
       "v21     float64\n",
       "v22      object\n",
       "v23     float64\n",
       "v24      object\n",
       "v25     float64\n",
       "v26     float64\n",
       "v27     float64\n",
       "v28     float64\n",
       "v29     float64\n",
       "v30      object\n",
       "         ...   \n",
       "v102    float64\n",
       "v103    float64\n",
       "v104    float64\n",
       "v105    float64\n",
       "v106    float64\n",
       "v107     object\n",
       "v108    float64\n",
       "v109    float64\n",
       "v110     object\n",
       "v111    float64\n",
       "v112     object\n",
       "v113     object\n",
       "v114    float64\n",
       "v115    float64\n",
       "v116    float64\n",
       "v117    float64\n",
       "v118    float64\n",
       "v119    float64\n",
       "v120    float64\n",
       "v121    float64\n",
       "v122    float64\n",
       "v123    float64\n",
       "v124    float64\n",
       "v125     object\n",
       "v126    float64\n",
       "v127    float64\n",
       "v128    float64\n",
       "v129      int64\n",
       "v130    float64\n",
       "v131    float64\n",
       "dtype: object"
      ]
     },
     "execution_count": 137,
     "metadata": {},
     "output_type": "execute_result"
    }
   ],
   "source": [
    "df.dtypes"
   ]
  },
  {
   "cell_type": "code",
   "execution_count": 139,
   "metadata": {
    "collapsed": false
   },
   "outputs": [
    {
     "name": "stdout",
     "output_type": "stream",
     "text": [
      "114393\n"
     ]
    },
    {
     "data": {
      "text/html": [
       "<div>\n",
       "<table border=\"1\" class=\"dataframe\">\n",
       "  <thead>\n",
       "    <tr style=\"text-align: right;\">\n",
       "      <th></th>\n",
       "      <th>v10</th>\n",
       "      <th>v12</th>\n",
       "      <th>v21</th>\n",
       "      <th>v24</th>\n",
       "    </tr>\n",
       "  </thead>\n",
       "  <tbody>\n",
       "    <tr>\n",
       "      <th>0</th>\n",
       "      <td>1.312911</td>\n",
       "      <td>6.961173</td>\n",
       "      <td>7.437806</td>\n",
       "      <td>E</td>\n",
       "    </tr>\n",
       "    <tr>\n",
       "      <th>1</th>\n",
       "      <td>1.291029</td>\n",
       "      <td>6.618289</td>\n",
       "      <td>5.895192</td>\n",
       "      <td>D</td>\n",
       "    </tr>\n",
       "  </tbody>\n",
       "</table>\n",
       "</div>"
      ],
      "text/plain": [
       "        v10       v12       v21 v24\n",
       "0  1.312911  6.961173  7.437806   E\n",
       "1  1.291029  6.618289  5.895192   D"
      ]
     },
     "execution_count": 139,
     "metadata": {},
     "output_type": "execute_result"
    }
   ],
   "source": [
    "#There are 132 variables and I am going to just work on selective variables\n",
    "test1= test[['v10', 'v12', 'v21','v24']]\n",
    "print(len(test1))\n",
    "test1.head(2)"
   ]
  },
  {
   "cell_type": "code",
   "execution_count": 140,
   "metadata": {
    "collapsed": false
   },
   "outputs": [
    {
     "data": {
      "text/plain": [
       "array(['E', 'D', 'B', 'C', 'A'], dtype=object)"
      ]
     },
     "execution_count": 140,
     "metadata": {},
     "output_type": "execute_result"
    }
   ],
   "source": [
    "pd.unique(test.v24.ravel()) #checking categories of v24"
   ]
  },
  {
   "cell_type": "code",
   "execution_count": 142,
   "metadata": {
    "collapsed": true
   },
   "outputs": [],
   "source": [
    "#save new DataFrame\n",
    "test1.to_pickle('BNP-test 4variables.pkl')"
   ]
  },
  {
   "cell_type": "code",
   "execution_count": 149,
   "metadata": {
    "collapsed": false
   },
   "outputs": [
    {
     "name": "stdout",
     "output_type": "stream",
     "text": [
      "114393\n"
     ]
    },
    {
     "data": {
      "text/html": [
       "<div>\n",
       "<table border=\"1\" class=\"dataframe\">\n",
       "  <thead>\n",
       "    <tr style=\"text-align: right;\">\n",
       "      <th></th>\n",
       "      <th>v10</th>\n",
       "      <th>v12</th>\n",
       "      <th>v21</th>\n",
       "      <th>v24</th>\n",
       "    </tr>\n",
       "  </thead>\n",
       "  <tbody>\n",
       "    <tr>\n",
       "      <th>0</th>\n",
       "      <td>1.312911</td>\n",
       "      <td>6.961173</td>\n",
       "      <td>7.437806</td>\n",
       "      <td>E</td>\n",
       "    </tr>\n",
       "    <tr>\n",
       "      <th>1</th>\n",
       "      <td>1.291029</td>\n",
       "      <td>6.618289</td>\n",
       "      <td>5.895192</td>\n",
       "      <td>D</td>\n",
       "    </tr>\n",
       "  </tbody>\n",
       "</table>\n",
       "</div>"
      ],
      "text/plain": [
       "        v10       v12       v21 v24\n",
       "0  1.312911  6.961173  7.437806   E\n",
       "1  1.291029  6.618289  5.895192   D"
      ]
     },
     "execution_count": 149,
     "metadata": {},
     "output_type": "execute_result"
    }
   ],
   "source": [
    "test=pd.read_pickle('BNP-test 4variables.pkl')\n",
    "print (len(test))\n",
    "test.head(2)"
   ]
  },
  {
   "cell_type": "code",
   "execution_count": 153,
   "metadata": {
    "collapsed": true
   },
   "outputs": [],
   "source": [
    "def f(x):\n",
    "    return Series (dict(population_category_v24=x['v24'].count()))"
   ]
  },
  {
   "cell_type": "code",
   "execution_count": 154,
   "metadata": {
    "collapsed": false
   },
   "outputs": [
    {
     "data": {
      "text/html": [
       "<div>\n",
       "<table border=\"1\" class=\"dataframe\">\n",
       "  <thead>\n",
       "    <tr style=\"text-align: right;\">\n",
       "      <th></th>\n",
       "      <th>population_category_v24</th>\n",
       "    </tr>\n",
       "    <tr>\n",
       "      <th>v24</th>\n",
       "      <th></th>\n",
       "    </tr>\n",
       "  </thead>\n",
       "  <tbody>\n",
       "    <tr>\n",
       "      <th>A</th>\n",
       "      <td>3803</td>\n",
       "    </tr>\n",
       "    <tr>\n",
       "      <th>B</th>\n",
       "      <td>8168</td>\n",
       "    </tr>\n",
       "    <tr>\n",
       "      <th>C</th>\n",
       "      <td>20887</td>\n",
       "    </tr>\n",
       "    <tr>\n",
       "      <th>D</th>\n",
       "      <td>26356</td>\n",
       "    </tr>\n",
       "    <tr>\n",
       "      <th>E</th>\n",
       "      <td>55179</td>\n",
       "    </tr>\n",
       "  </tbody>\n",
       "</table>\n",
       "</div>"
      ],
      "text/plain": [
       "     population_category_v24\n",
       "v24                         \n",
       "A                       3803\n",
       "B                       8168\n",
       "C                      20887\n",
       "D                      26356\n",
       "E                      55179"
      ]
     },
     "execution_count": 154,
     "metadata": {},
     "output_type": "execute_result"
    }
   ],
   "source": [
    "category_count=test.groupby('v24').apply(f)\n",
    "category_count"
   ]
  },
  {
   "cell_type": "code",
   "execution_count": 159,
   "metadata": {
    "collapsed": false
   },
   "outputs": [
    {
     "data": {
      "text/plain": [
       "<matplotlib.axes._subplots.AxesSubplot at 0x23aa1f79208>"
      ]
     },
     "execution_count": 159,
     "metadata": {},
     "output_type": "execute_result"
    },
    {
     "data": {
      "image/png": "[encoded data removed]",
      "text/plain": [
       "<matplotlib.figure.Figure at 0x23aa118ecc0>"
      ]
     },
     "metadata": {},
     "output_type": "display_data"
    }
   ],
   "source": [
    "category_count['population_category_v24'].plot(kind='barh')"
   ]
  },
  {
   "cell_type": "code",
   "execution_count": 72,
   "metadata": {
    "collapsed": true
   },
   "outputs": [],
   "source": [
    "# dealing with missing data values"
   ]
  },
  {
   "cell_type": "code",
   "execution_count": 163,
   "metadata": {
    "collapsed": false
   },
   "outputs": [
    {
     "data": {
      "text/plain": [
       "(114393, 4)"
      ]
     },
     "execution_count": 163,
     "metadata": {},
     "output_type": "execute_result"
    }
   ],
   "source": [
    "testMean=test.fillna(test.mean()) #this will change the variance\n",
    "#print(testMean)\n",
    "testMean.shape# shows the size of the data\n",
    "#ordering=pd.DataFrame(testMean)"
   ]
  },
  {
   "cell_type": "code",
   "execution_count": 166,
   "metadata": {
    "collapsed": false
   },
   "outputs": [],
   "source": [
    "testMean=testMean.sort_values(by='v24')"
   ]
  },
  {
   "cell_type": "code",
   "execution_count": 216,
   "metadata": {
    "collapsed": false
   },
   "outputs": [
    {
     "name": "stdout",
     "output_type": "stream",
     "text": [
      "0.912739707677\n",
      "0.912763318482\n"
     ]
    }
   ],
   "source": [
    "print(testMean['v10'].corr(testMean['v12']) )\n",
    "print(test['v10'].corr(test['v12'])) \n",
    "#very strong positive correlation for original data\n",
    "#and motified one"
   ]
  },
  {
   "cell_type": "code",
   "execution_count": 217,
   "metadata": {
    "collapsed": false
   },
   "outputs": [
    {
     "data": {
      "text/plain": [
       "<matplotlib.axes._subplots.AxesSubplot at 0x23aa0e652e8>"
      ]
     },
     "execution_count": 217,
     "metadata": {},
     "output_type": "execute_result"
    },
    {
     "data": {
      "image/png": "[encoded data removed]",
      "text/plain": [
       "<matplotlib.figure.Figure at 0x23aa0e655f8>"
      ]
     },
     "metadata": {},
     "output_type": "display_data"
    }
   ],
   "source": [
    "sns.regplot(x=\"v10\", y=\"v12\", data=testMean)"
   ]
  },
  {
   "cell_type": "code",
   "execution_count": 213,
   "metadata": {
    "collapsed": false
   },
   "outputs": [
    {
     "data": {
      "text/plain": [
       "0.32271287686888156"
      ]
     },
     "execution_count": 213,
     "metadata": {},
     "output_type": "execute_result"
    }
   ],
   "source": [
    "testMean['v10'].corr(testMean['v21']) \n",
    "# weak positive correlation"
   ]
  },
  {
   "cell_type": "code",
   "execution_count": 218,
   "metadata": {
    "collapsed": false
   },
   "outputs": [
    {
     "data": {
      "text/plain": [
       "<matplotlib.axes._subplots.AxesSubplot at 0x23aa0fd6438>"
      ]
     },
     "execution_count": 218,
     "metadata": {},
     "output_type": "execute_result"
    },
    {
     "data": {
      "image/png": "[encoded data removed]",
      "text/plain": [
       "<matplotlib.figure.Figure at 0x23aa2960b70>"
      ]
     },
     "metadata": {},
     "output_type": "display_data"
    }
   ],
   "source": [
    "sns.regplot(x=\"v10\", y=\"v21\", data=testMean)"
   ]
  },
  {
   "cell_type": "code",
   "execution_count": 214,
   "metadata": {
    "collapsed": false,
    "scrolled": true
   },
   "outputs": [
    {
     "data": {
      "text/plain": [
       "0.3071799414748459"
      ]
     },
     "execution_count": 214,
     "metadata": {},
     "output_type": "execute_result"
    }
   ],
   "source": [
    "testMean['v12'].corr(testMean['v21']) \n",
    "#relatively weak positive correlation"
   ]
  },
  {
   "cell_type": "code",
   "execution_count": 219,
   "metadata": {
    "collapsed": false
   },
   "outputs": [
    {
     "data": {
      "text/plain": [
       "<matplotlib.axes._subplots.AxesSubplot at 0x23aa2022be0>"
      ]
     },
     "execution_count": 219,
     "metadata": {},
     "output_type": "execute_result"
    },
    {
     "data": {
      "image/png": "[encoded data removed]",
      "text/plain": [
       "<matplotlib.figure.Figure at 0x23aa20335f8>"
      ]
     },
     "metadata": {},
     "output_type": "display_data"
    }
   ],
   "source": [
    "sns.regplot(x=\"v12\", y=\"v21\", data=testMean)"
   ]
  },
  {
   "cell_type": "code",
   "execution_count": 177,
   "metadata": {
    "collapsed": false
   },
   "outputs": [],
   "source": [
    "testMeanA=testMean[:3803]"
   ]
  },
  {
   "cell_type": "code",
   "execution_count": 195,
   "metadata": {
    "collapsed": false,
    "scrolled": false
   },
   "outputs": [
    {
     "data": {
      "text/html": [
       "<div>\n",
       "<table border=\"1\" class=\"dataframe\">\n",
       "  <thead>\n",
       "    <tr style=\"text-align: right;\">\n",
       "      <th></th>\n",
       "      <th>v10</th>\n",
       "      <th>v12</th>\n",
       "      <th>v21</th>\n",
       "    </tr>\n",
       "  </thead>\n",
       "  <tbody>\n",
       "    <tr>\n",
       "      <th>count</th>\n",
       "      <td>3.803000e+03</td>\n",
       "      <td>3803.000000</td>\n",
       "      <td>3803.000000</td>\n",
       "    </tr>\n",
       "    <tr>\n",
       "      <th>mean</th>\n",
       "      <td>1.968808e+00</td>\n",
       "      <td>6.932390</td>\n",
       "      <td>7.024727</td>\n",
       "    </tr>\n",
       "    <tr>\n",
       "      <th>std</th>\n",
       "      <td>1.463067e+00</td>\n",
       "      <td>0.948378</td>\n",
       "      <td>1.072180</td>\n",
       "    </tr>\n",
       "    <tr>\n",
       "      <th>min</th>\n",
       "      <td>-8.803545e-07</td>\n",
       "      <td>3.371788</td>\n",
       "      <td>0.405514</td>\n",
       "    </tr>\n",
       "    <tr>\n",
       "      <th>25%</th>\n",
       "      <td>1.050328e+00</td>\n",
       "      <td>6.347884</td>\n",
       "      <td>6.416824</td>\n",
       "    </tr>\n",
       "    <tr>\n",
       "      <th>50%</th>\n",
       "      <td>1.312911e+00</td>\n",
       "      <td>6.642278</td>\n",
       "      <td>7.031747</td>\n",
       "    </tr>\n",
       "    <tr>\n",
       "      <th>75%</th>\n",
       "      <td>2.341357e+00</td>\n",
       "      <td>7.117794</td>\n",
       "      <td>7.662711</td>\n",
       "    </tr>\n",
       "    <tr>\n",
       "      <th>max</th>\n",
       "      <td>1.059081e+01</td>\n",
       "      <td>13.486494</td>\n",
       "      <td>12.356923</td>\n",
       "    </tr>\n",
       "  </tbody>\n",
       "</table>\n",
       "</div>"
      ],
      "text/plain": [
       "                v10          v12          v21\n",
       "count  3.803000e+03  3803.000000  3803.000000\n",
       "mean   1.968808e+00     6.932390     7.024727\n",
       "std    1.463067e+00     0.948378     1.072180\n",
       "min   -8.803545e-07     3.371788     0.405514\n",
       "25%    1.050328e+00     6.347884     6.416824\n",
       "50%    1.312911e+00     6.642278     7.031747\n",
       "75%    2.341357e+00     7.117794     7.662711\n",
       "max    1.059081e+01    13.486494    12.356923"
      ]
     },
     "execution_count": 195,
     "metadata": {},
     "output_type": "execute_result"
    }
   ],
   "source": [
    "testMeanA.describe() "
   ]
  },
  {
   "cell_type": "code",
   "execution_count": 197,
   "metadata": {
    "collapsed": false
   },
   "outputs": [
    {
     "name": "stdout",
     "output_type": "stream",
     "text": [
      "11971\n"
     ]
    }
   ],
   "source": [
    "endD=len(testMeanA)+8168\n",
    "print(endB) "
   ]
  },
  {
   "cell_type": "code",
   "execution_count": 196,
   "metadata": {
    "collapsed": false
   },
   "outputs": [
    {
     "name": "stdout",
     "output_type": "stream",
     "text": [
      "32858\n"
     ]
    }
   ],
   "source": [
    "endC=endB+20887\n",
    "print(endC) "
   ]
  },
  {
   "cell_type": "code",
   "execution_count": 198,
   "metadata": {
    "collapsed": false
   },
   "outputs": [
    {
     "name": "stdout",
     "output_type": "stream",
     "text": [
      "59214\n"
     ]
    }
   ],
   "source": [
    "endD=endC+26356\n",
    "print(endD) "
   ]
  },
  {
   "cell_type": "code",
   "execution_count": 200,
   "metadata": {
    "collapsed": false
   },
   "outputs": [
    {
     "name": "stdout",
     "output_type": "stream",
     "text": [
      "114393\n"
     ]
    },
    {
     "data": {
      "text/plain": [
       "114393"
      ]
     },
     "execution_count": 200,
     "metadata": {},
     "output_type": "execute_result"
    }
   ],
   "source": [
    "endE=endD+55179\n",
    "print(endE) \n",
    "len(testMean)"
   ]
  },
  {
   "cell_type": "code",
   "execution_count": 204,
   "metadata": {
    "collapsed": false
   },
   "outputs": [],
   "source": [
    "testMeanB=testMean[3803:endB]\n",
    "#testMeanB"
   ]
  },
  {
   "cell_type": "code",
   "execution_count": 191,
   "metadata": {
    "collapsed": false
   },
   "outputs": [
    {
     "data": {
      "text/html": [
       "<div>\n",
       "<table border=\"1\" class=\"dataframe\">\n",
       "  <thead>\n",
       "    <tr style=\"text-align: right;\">\n",
       "      <th></th>\n",
       "      <th>v10</th>\n",
       "      <th>v12</th>\n",
       "      <th>v21</th>\n",
       "      <th>v24</th>\n",
       "    </tr>\n",
       "  </thead>\n",
       "  <tbody>\n",
       "    <tr>\n",
       "      <th>34463</th>\n",
       "      <td>0.962802</td>\n",
       "      <td>6.314942</td>\n",
       "      <td>5.914367</td>\n",
       "      <td>B</td>\n",
       "    </tr>\n",
       "    <tr>\n",
       "      <th>103752</th>\n",
       "      <td>0.765864</td>\n",
       "      <td>6.139691</td>\n",
       "      <td>6.791003</td>\n",
       "      <td>C</td>\n",
       "    </tr>\n",
       "  </tbody>\n",
       "</table>\n",
       "</div>"
      ],
      "text/plain": [
       "             v10       v12       v21 v24\n",
       "34463   0.962802  6.314942  5.914367   B\n",
       "103752  0.765864  6.139691  6.791003   C"
      ]
     },
     "execution_count": 191,
     "metadata": {},
     "output_type": "execute_result"
    }
   ],
   "source": [
    "testMean[11970:11972]"
   ]
  },
  {
   "cell_type": "code",
   "execution_count": 193,
   "metadata": {
    "collapsed": false
   },
   "outputs": [
    {
     "data": {
      "text/html": [
       "<div>\n",
       "<table border=\"1\" class=\"dataframe\">\n",
       "  <thead>\n",
       "    <tr style=\"text-align: right;\">\n",
       "      <th></th>\n",
       "      <th>v10</th>\n",
       "      <th>v12</th>\n",
       "      <th>v21</th>\n",
       "    </tr>\n",
       "  </thead>\n",
       "  <tbody>\n",
       "    <tr>\n",
       "      <th>count</th>\n",
       "      <td>8.167000e+03</td>\n",
       "      <td>8167.000000</td>\n",
       "      <td>8167.000000</td>\n",
       "    </tr>\n",
       "    <tr>\n",
       "      <th>mean</th>\n",
       "      <td>2.134853e+00</td>\n",
       "      <td>6.992834</td>\n",
       "      <td>7.104845</td>\n",
       "    </tr>\n",
       "    <tr>\n",
       "      <th>std</th>\n",
       "      <td>1.553279e+00</td>\n",
       "      <td>0.980209</td>\n",
       "      <td>1.105375</td>\n",
       "    </tr>\n",
       "    <tr>\n",
       "      <th>min</th>\n",
       "      <td>-9.086954e-07</td>\n",
       "      <td>2.745050</td>\n",
       "      <td>1.673968</td>\n",
       "    </tr>\n",
       "    <tr>\n",
       "      <th>25%</th>\n",
       "      <td>1.050329e+00</td>\n",
       "      <td>6.352678</td>\n",
       "      <td>6.436049</td>\n",
       "    </tr>\n",
       "    <tr>\n",
       "      <th>50%</th>\n",
       "      <td>1.531730e+00</td>\n",
       "      <td>6.676559</td>\n",
       "      <td>7.075774</td>\n",
       "    </tr>\n",
       "    <tr>\n",
       "      <th>75%</th>\n",
       "      <td>2.625820e+00</td>\n",
       "      <td>7.254981</td>\n",
       "      <td>7.783338</td>\n",
       "    </tr>\n",
       "    <tr>\n",
       "      <th>max</th>\n",
       "      <td>7.877462e+00</td>\n",
       "      <td>11.176043</td>\n",
       "      <td>20.000001</td>\n",
       "    </tr>\n",
       "  </tbody>\n",
       "</table>\n",
       "</div>"
      ],
      "text/plain": [
       "                v10          v12          v21\n",
       "count  8.167000e+03  8167.000000  8167.000000\n",
       "mean   2.134853e+00     6.992834     7.104845\n",
       "std    1.553279e+00     0.980209     1.105375\n",
       "min   -9.086954e-07     2.745050     1.673968\n",
       "25%    1.050329e+00     6.352678     6.436049\n",
       "50%    1.531730e+00     6.676559     7.075774\n",
       "75%    2.625820e+00     7.254981     7.783338\n",
       "max    7.877462e+00    11.176043    20.000001"
      ]
     },
     "execution_count": 193,
     "metadata": {},
     "output_type": "execute_result"
    }
   ],
   "source": [
    "testMeanB.describe() "
   ]
  },
  {
   "cell_type": "code",
   "execution_count": 208,
   "metadata": {
    "collapsed": false
   },
   "outputs": [
    {
     "data": {
      "text/html": [
       "<div>\n",
       "<table border=\"1\" class=\"dataframe\">\n",
       "  <thead>\n",
       "    <tr style=\"text-align: right;\">\n",
       "      <th></th>\n",
       "      <th>v10</th>\n",
       "      <th>v12</th>\n",
       "      <th>v21</th>\n",
       "    </tr>\n",
       "  </thead>\n",
       "  <tbody>\n",
       "    <tr>\n",
       "      <th>count</th>\n",
       "      <td>2.088700e+04</td>\n",
       "      <td>20887.000000</td>\n",
       "      <td>20887.000000</td>\n",
       "    </tr>\n",
       "    <tr>\n",
       "      <th>mean</th>\n",
       "      <td>2.156968e+00</td>\n",
       "      <td>6.965066</td>\n",
       "      <td>7.106595</td>\n",
       "    </tr>\n",
       "    <tr>\n",
       "      <th>std</th>\n",
       "      <td>1.580415e+00</td>\n",
       "      <td>0.966190</td>\n",
       "      <td>1.104474</td>\n",
       "    </tr>\n",
       "    <tr>\n",
       "      <th>min</th>\n",
       "      <td>-6.358644e-07</td>\n",
       "      <td>1.348855</td>\n",
       "      <td>1.330187</td>\n",
       "    </tr>\n",
       "    <tr>\n",
       "      <th>25%</th>\n",
       "      <td>1.050329e+00</td>\n",
       "      <td>6.346372</td>\n",
       "      <td>6.435533</td>\n",
       "    </tr>\n",
       "    <tr>\n",
       "      <th>50%</th>\n",
       "      <td>1.553610e+00</td>\n",
       "      <td>6.666560</td>\n",
       "      <td>7.066539</td>\n",
       "    </tr>\n",
       "    <tr>\n",
       "      <th>75%</th>\n",
       "      <td>2.625820e+00</td>\n",
       "      <td>7.201304</td>\n",
       "      <td>7.792470</td>\n",
       "    </tr>\n",
       "    <tr>\n",
       "      <th>max</th>\n",
       "      <td>9.518600e+00</td>\n",
       "      <td>11.687400</td>\n",
       "      <td>15.518160</td>\n",
       "    </tr>\n",
       "  </tbody>\n",
       "</table>\n",
       "</div>"
      ],
      "text/plain": [
       "                v10           v12           v21\n",
       "count  2.088700e+04  20887.000000  20887.000000\n",
       "mean   2.156968e+00      6.965066      7.106595\n",
       "std    1.580415e+00      0.966190      1.104474\n",
       "min   -6.358644e-07      1.348855      1.330187\n",
       "25%    1.050329e+00      6.346372      6.435533\n",
       "50%    1.553610e+00      6.666560      7.066539\n",
       "75%    2.625820e+00      7.201304      7.792470\n",
       "max    9.518600e+00     11.687400     15.518160"
      ]
     },
     "execution_count": 208,
     "metadata": {},
     "output_type": "execute_result"
    }
   ],
   "source": [
    "testMeanC=testMean[endB:endC]\n",
    "testMeanC.describe() \n",
    "#testMeanC"
   ]
  },
  {
   "cell_type": "code",
   "execution_count": 209,
   "metadata": {
    "collapsed": false
   },
   "outputs": [
    {
     "data": {
      "text/html": [
       "<div>\n",
       "<table border=\"1\" class=\"dataframe\">\n",
       "  <thead>\n",
       "    <tr style=\"text-align: right;\">\n",
       "      <th></th>\n",
       "      <th>v10</th>\n",
       "      <th>v12</th>\n",
       "      <th>v21</th>\n",
       "    </tr>\n",
       "  </thead>\n",
       "  <tbody>\n",
       "    <tr>\n",
       "      <th>count</th>\n",
       "      <td>2.635600e+04</td>\n",
       "      <td>26356.000000</td>\n",
       "      <td>26356.000000</td>\n",
       "    </tr>\n",
       "    <tr>\n",
       "      <th>mean</th>\n",
       "      <td>2.024295e+00</td>\n",
       "      <td>6.969165</td>\n",
       "      <td>7.092663</td>\n",
       "    </tr>\n",
       "    <tr>\n",
       "      <th>std</th>\n",
       "      <td>1.485124e+00</td>\n",
       "      <td>0.985155</td>\n",
       "      <td>1.068201</td>\n",
       "    </tr>\n",
       "    <tr>\n",
       "      <th>min</th>\n",
       "      <td>-9.669047e-07</td>\n",
       "      <td>3.180898</td>\n",
       "      <td>0.647539</td>\n",
       "    </tr>\n",
       "    <tr>\n",
       "      <th>25%</th>\n",
       "      <td>1.050329e+00</td>\n",
       "      <td>6.342909</td>\n",
       "      <td>6.467897</td>\n",
       "    </tr>\n",
       "    <tr>\n",
       "      <th>50%</th>\n",
       "      <td>1.312911e+00</td>\n",
       "      <td>6.665210</td>\n",
       "      <td>7.087603</td>\n",
       "    </tr>\n",
       "    <tr>\n",
       "      <th>75%</th>\n",
       "      <td>2.407003e+00</td>\n",
       "      <td>7.194936</td>\n",
       "      <td>7.737809</td>\n",
       "    </tr>\n",
       "    <tr>\n",
       "      <th>max</th>\n",
       "      <td>2.000000e+01</td>\n",
       "      <td>20.000000</td>\n",
       "      <td>15.976850</td>\n",
       "    </tr>\n",
       "  </tbody>\n",
       "</table>\n",
       "</div>"
      ],
      "text/plain": [
       "                v10           v12           v21\n",
       "count  2.635600e+04  26356.000000  26356.000000\n",
       "mean   2.024295e+00      6.969165      7.092663\n",
       "std    1.485124e+00      0.985155      1.068201\n",
       "min   -9.669047e-07      3.180898      0.647539\n",
       "25%    1.050329e+00      6.342909      6.467897\n",
       "50%    1.312911e+00      6.665210      7.087603\n",
       "75%    2.407003e+00      7.194936      7.737809\n",
       "max    2.000000e+01     20.000000     15.976850"
      ]
     },
     "execution_count": 209,
     "metadata": {},
     "output_type": "execute_result"
    }
   ],
   "source": [
    "testMeanD=testMean[endC:endD]\n",
    "testMeanD.describe() \n",
    "#testMeanD"
   ]
  },
  {
   "cell_type": "code",
   "execution_count": 210,
   "metadata": {
    "collapsed": false
   },
   "outputs": [
    {
     "data": {
      "text/html": [
       "<div>\n",
       "<table border=\"1\" class=\"dataframe\">\n",
       "  <thead>\n",
       "    <tr style=\"text-align: right;\">\n",
       "      <th></th>\n",
       "      <th>v10</th>\n",
       "      <th>v12</th>\n",
       "      <th>v21</th>\n",
       "    </tr>\n",
       "  </thead>\n",
       "  <tbody>\n",
       "    <tr>\n",
       "      <th>count</th>\n",
       "      <td>5.517900e+04</td>\n",
       "      <td>55179.000000</td>\n",
       "      <td>5.517900e+04</td>\n",
       "    </tr>\n",
       "    <tr>\n",
       "      <th>mean</th>\n",
       "      <td>1.667379e+00</td>\n",
       "      <td>6.783974</td>\n",
       "      <td>6.978181e+00</td>\n",
       "    </tr>\n",
       "    <tr>\n",
       "      <th>std</th>\n",
       "      <td>1.204083e+00</td>\n",
       "      <td>0.850997</td>\n",
       "      <td>1.020949e+00</td>\n",
       "    </tr>\n",
       "    <tr>\n",
       "      <th>min</th>\n",
       "      <td>-8.909169e-07</td>\n",
       "      <td>2.699405</td>\n",
       "      <td>6.048887e-08</td>\n",
       "    </tr>\n",
       "    <tr>\n",
       "      <th>25%</th>\n",
       "      <td>1.050328e+00</td>\n",
       "      <td>6.300766</td>\n",
       "      <td>6.398489e+00</td>\n",
       "    </tr>\n",
       "    <tr>\n",
       "      <th>50%</th>\n",
       "      <td>1.291029e+00</td>\n",
       "      <td>6.564796</td>\n",
       "      <td>7.035117e+00</td>\n",
       "    </tr>\n",
       "    <tr>\n",
       "      <th>75%</th>\n",
       "      <td>1.816193e+00</td>\n",
       "      <td>6.876467</td>\n",
       "      <td>7.603888e+00</td>\n",
       "    </tr>\n",
       "    <tr>\n",
       "      <th>max</th>\n",
       "      <td>1.844639e+01</td>\n",
       "      <td>18.582915</td>\n",
       "      <td>1.691629e+01</td>\n",
       "    </tr>\n",
       "  </tbody>\n",
       "</table>\n",
       "</div>"
      ],
      "text/plain": [
       "                v10           v12           v21\n",
       "count  5.517900e+04  55179.000000  5.517900e+04\n",
       "mean   1.667379e+00      6.783974  6.978181e+00\n",
       "std    1.204083e+00      0.850997  1.020949e+00\n",
       "min   -8.909169e-07      2.699405  6.048887e-08\n",
       "25%    1.050328e+00      6.300766  6.398489e+00\n",
       "50%    1.291029e+00      6.564796  7.035117e+00\n",
       "75%    1.816193e+00      6.876467  7.603888e+00\n",
       "max    1.844639e+01     18.582915  1.691629e+01"
      ]
     },
     "execution_count": 210,
     "metadata": {},
     "output_type": "execute_result"
    }
   ],
   "source": [
    "testMeanE=testMean[endD:endE]\n",
    "testMeanE.describe() \n",
    "#testMeanE"
   ]
  },
  {
   "cell_type": "code",
   "execution_count": 231,
   "metadata": {
    "collapsed": false
   },
   "outputs": [
    {
     "data": {
      "image/png": "[encoded data removed]",
      "text/plain": [
       "<matplotlib.figure.Figure at 0x23ab2d01eb8>"
      ]
     },
     "metadata": {},
     "output_type": "display_data"
    }
   ],
   "source": [
    "bins=np.linspace(-10,10,100)\n",
    "plt.title('histogram of v10 for each category of v24')\n",
    "plt.hist(\"v10\", label='A', data=testMeanA)\n",
    "plt.hist(\"v10\", label='B', data=testMeanB)\n",
    "plt.hist(\"v10\", label='C', data=testMeanC)\n",
    "plt.hist(\"v10\", label='D', data=testMeanD)\n",
    "plt.hist(\"v10\", label='E', data=testMeanE)\n",
    "plt.legend(loc='upper right')\n",
    "plt.show()\n",
    "#from the histogram, it is hard to say that the category of v24 \n",
    "#is related to v10 and so as v12 as they are strongly correlated"
   ]
  },
  {
   "cell_type": "code",
   "execution_count": 232,
   "metadata": {
    "collapsed": false
   },
   "outputs": [
    {
     "data": {
      "image/png": "[encoded data removed]",
      "text/plain": [
       "<matplotlib.figure.Figure at 0x23ab2f72a90>"
      ]
     },
     "metadata": {},
     "output_type": "display_data"
    }
   ],
   "source": [
    "bins=np.linspace(-10,10,100)\n",
    "plt.title('histogram of v12 for each category of v24')\n",
    "plt.hist(\"v12\", label='A', data=testMeanA)\n",
    "plt.hist(\"v12\", label='B', data=testMeanB)\n",
    "plt.hist(\"v12\", label='C', data=testMeanC)\n",
    "plt.hist(\"v12\", label='D', data=testMeanD)\n",
    "plt.hist(\"v12\", label='E', data=testMeanE)\n",
    "plt.legend(loc='upper right')\n",
    "plt.show()\n",
    "#As we expected from above.."
   ]
  },
  {
   "cell_type": "code",
   "execution_count": 233,
   "metadata": {
    "collapsed": false
   },
   "outputs": [
    {
     "data": {
      "image/png": "[encoded data removed]",
      "text/plain": [
       "<matplotlib.figure.Figure at 0x23ab2f0cdd8>"
      ]
     },
     "metadata": {},
     "output_type": "display_data"
    }
   ],
   "source": [
    "bins=np.linspace(-10,10,100)\n",
    "plt.title('histogram of v21 for each category of v24')\n",
    "plt.hist(\"v21\", label='A', data=testMeanA)\n",
    "plt.hist(\"v21\", label='B', data=testMeanB)\n",
    "plt.hist(\"v21\", label='C', data=testMeanC)\n",
    "plt.hist(\"v21\", label='D', data=testMeanD)\n",
    "plt.hist(\"v21\", label='E', data=testMeanE)\n",
    "plt.legend(loc='upper right')\n",
    "plt.show()"
   ]
  },
  {
   "cell_type": "code",
   "execution_count": null,
   "metadata": {
    "collapsed": true
   },
   "outputs": [],
   "source": [
    "#Therefore we can see that the v24 is not differed \n",
    "#by the other three variables; v10,v12,v21\n",
    "#We can further investigates about the relationship among \n",
    "#other variables that we have not consider"
   ]
  }
 ],
 "metadata": {
  "kernelspec": {
   "display_name": "Python 3",
   "language": "python",
   "name": "python3"
  },
  "language_info": {
   "codemirror_mode": {
    "name": "ipython",
    "version": 3
   },
   "file_extension": ".py",
   "mimetype": "text/x-python",
   "name": "python",
   "nbconvert_exporter": "python",
   "pygments_lexer": "ipython3",
   "version": "3.5.1"
  }
 },
 "nbformat": 4,
 "nbformat_minor": 0
}
